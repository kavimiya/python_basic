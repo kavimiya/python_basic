{
 "cells": [
  {
   "cell_type": "markdown",
   "id": "2f4830e0",
   "metadata": {},
   "source": [
    "# Q1. What is an API? Give an example, where an API is used in real life.\n"
   ]
  },
  {
   "cell_type": "markdown",
   "id": "1dca82a6",
   "metadata": {},
   "source": [
    "An API (Application Programming Interface) is a set of rules that allows different software applications to communicate and interact with each other. It acts as a bridge, enabling seamless integration between systems and allowing them to share data and functionality.\n",
    "\n",
    "Real-life example: A weather application using a weather API to fetch real-time weather data for various locations and display it to users."
   ]
  },
  {
   "cell_type": "markdown",
   "id": "d2648ddd",
   "metadata": {},
   "source": [
    "# Q2. Give advantages and disadvantages of using API. \n"
   ]
  },
  {
   "cell_type": "markdown",
   "id": "4847973a",
   "metadata": {},
   "source": [
    "## Advantages of using API:\n",
    "\n",
    "- Modularity and Reusability\n",
    "- Interoperability\n",
    "- Faster Development\n",
    "- Access to Third-Party Services\n",
    "- Scalability and Flexibility\n",
    "\n",
    "## Disadvantages of using API:\n",
    "\n",
    "- Dependency on External Services\n",
    "- Security Concerns\n",
    "- Versioning and Maintenance\n",
    "- Performance Overhead\n",
    "- API Complexity"
   ]
  },
  {
   "cell_type": "markdown",
   "id": "e2a57417",
   "metadata": {},
   "source": [
    "# Q3. What is a Web API? Differentiate between API and Web API.\n",
    "\n"
   ]
  },
  {
   "cell_type": "markdown",
   "id": "2eb16e57",
   "metadata": {},
   "source": [
    "## Web API:\n",
    "- A Web API is an API designed to be exposed over the internet through web protocols like HTTP, enabling communication between web-based applications.\n",
    "\n",
    "## API vs. Web API:\n",
    "\n",
    "## API: \n",
    "- General term for communication interfaces between software applications, not limited to the internet.\n",
    "\n",
    "## Web API:\n",
    "- Specifically refers to APIs accessible over the internet using web protocols, often based on REST principles."
   ]
  },
  {
   "cell_type": "markdown",
   "id": "ff93fca0",
   "metadata": {},
   "source": [
    "# Q4. Explain REST and SOAP Architecture. Mention shortcomings of SOAP.\n"
   ]
  },
  {
   "cell_type": "markdown",
   "id": "2dfaf779",
   "metadata": {},
   "source": [
    "## REST Architecture:\n",
    "\n",
    "- Simple and lightweight.\n",
    "- Stateless and scalable.\n",
    "- Uses URLs and HTTP methods for resource interactions.\n",
    "- Data exchanged in JSON or XML format.\n",
    " \n",
    "## SOAP Architecture:\n",
    "\n",
    "- XML-based and complex.\n",
    "- Supports remote procedure calls\n",
    "- Can be stateful and extensible.\n",
    "- Slower and less efficient compared to REST.\n",
    "\n",
    "## Shortcomings of SOAP:\n",
    "\n",
    "- Large and complex XML messages.\n",
    "- Performance overhead.\n",
    "- Less flexibility and versioning challenges.\n",
    "- Limited browser support.\n",
    "- Declining popularity compared to REST."
   ]
  },
  {
   "cell_type": "markdown",
   "id": "a5cbc277",
   "metadata": {},
   "source": [
    "# Q5. Differentiate between REST and SOAP"
   ]
  },
  {
   "cell_type": "markdown",
   "id": "b32265c9",
   "metadata": {},
   "source": [
    "## REST vs. SOAP\n",
    "\n",
    "## REST:\n",
    "- Lightweight, stateless, uses JSON or XML, follows HTTP methods, widely adopted.\n",
    "\n",
    "## SOAP:\n",
    "- XML-based, supports remote procedure calls, can be stateful, declining popularity."
   ]
  },
  {
   "cell_type": "code",
   "execution_count": null,
   "id": "a7b6503b",
   "metadata": {},
   "outputs": [],
   "source": []
  },
  {
   "cell_type": "code",
   "execution_count": null,
   "id": "6e1cc2fc",
   "metadata": {},
   "outputs": [],
   "source": []
  }
 ],
 "metadata": {
  "kernelspec": {
   "display_name": "Python 3 (ipykernel)",
   "language": "python",
   "name": "python3"
  },
  "language_info": {
   "codemirror_mode": {
    "name": "ipython",
    "version": 3
   },
   "file_extension": ".py",
   "mimetype": "text/x-python",
   "name": "python",
   "nbconvert_exporter": "python",
   "pygments_lexer": "ipython3",
   "version": "3.9.7"
  }
 },
 "nbformat": 4,
 "nbformat_minor": 5
}
