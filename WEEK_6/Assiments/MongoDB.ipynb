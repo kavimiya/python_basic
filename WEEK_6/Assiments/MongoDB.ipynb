{
 "cells": [
  {
   "cell_type": "markdown",
   "id": "219c42a0",
   "metadata": {},
   "source": [
    "# Q1. What is MongoDB? Explain non-relational databases in short. In which scenarios it is preferred to use MongoDB over SQL databases?"
   ]
  },
  {
   "cell_type": "markdown",
   "id": "590899ae",
   "metadata": {},
   "source": [
    "# What is MongoDB?"
   ]
  },
  {
   "cell_type": "markdown",
   "id": "aa9a025b",
   "metadata": {},
   "source": [
    "- MongoDB is a popular `open-source NoSQL (non-relational) database management system`.\n",
    "- It is designed to `store and manage large volumes of data in a flexible and scalable manner`.\n",
    "- MongoDB uses a `document-oriented data model`, where data is stored in `BSON (Binary JSON) format`, making it easy to work with `complex and hierarchical data structures.`"
   ]
  },
  {
   "cell_type": "markdown",
   "id": "8b046f4c",
   "metadata": {},
   "source": [
    "# non-relational databases in shor"
   ]
  },
  {
   "cell_type": "markdown",
   "id": "4fb0d145",
   "metadata": {},
   "source": [
    "- Non-relational databases, also known as `NoSQL databases`, are databases that `do not follow the traditional tabular structure of SQL databases`.\n",
    "- They are designed to handle `unstructured or semi-structured data`, making them `more flexible and scalable for certain types of applications`. \n",
    "- NoSQL databases use various data models, such as` key-value, document-oriented, column-family, or graph-based, to organize and represent data`."
   ]
  },
  {
   "cell_type": "markdown",
   "id": "df07c0f6",
   "metadata": {},
   "source": [
    "# which scenarios it is preferred to use MongoDB over SQL databases?¶"
   ]
  },
  {
   "cell_type": "markdown",
   "id": "8f1193c6",
   "metadata": {},
   "source": [
    "## Flexible Data Model: \n",
    "- When dealing with unstructured or semi-structured data that doesn't fit well into a fixed schema.\n",
    "\n",
    "## Scalability:\n",
    "- For applications with large datasets and high-velocity data, MongoDB's distributed architecture allows for easy horizontal scaling.\n",
    "\n",
    "## Agile Development: \n",
    "- In agile environments where application requirements change frequently, MongoDB's schema-less design enables quick iterations.\n",
    "\n",
    "## High Read/Write Workloads: \n",
    "- MongoDB's horizontal scaling capabilities make it suitable for applications with heavy read and write operations.\n",
    "\n",
    "## Geospatial Data: \n",
    "- MongoDB's strong support for geospatial data makes it a good choice for location-based applications.\n",
    "\n",
    "## Document Storage: \n",
    "- When data can be naturally represented as documents or JSON-like structures, MongoDB simplifies storage and retrieval."
   ]
  },
  {
   "cell_type": "markdown",
   "id": "440b3064",
   "metadata": {},
   "source": [
    "# Q2. State and Explain the features of MongoDB."
   ]
  },
  {
   "cell_type": "markdown",
   "id": "d36d8e44",
   "metadata": {},
   "source": [
    "## Document-Oriented Storage: \n",
    "- MongoDB stores data in flexible JSON-like documents called BSON.\n",
    "\n",
    "## Scalability: \n",
    "- It can handle large datasets and high read/write workloads through horizontal scaling.\n",
    "\n",
    "## Indexing: \n",
    "- Supports various types of indexes for faster data retrieval.\n",
    "\n",
    "## Flexible Schema: \n",
    "- Allows documents in a collection to have different fields, making it adaptable to changing data.\n",
    "\n",
    "## Aggregation Framework: \n",
    "- Enables complex data aggregation operations.\n",
    "\n",
    "## Ad-hoc Queries: \n",
    "- Supports dynamic and flexible queries without predefined schema structures.\n",
    "\n",
    "## Replication: \n",
    "- Automatic data replication for data redundancy and high availability.\n",
    "\n",
    "## Sharding:\n",
    "- Distributes data across multiple servers to improve scalability.\n",
    "\n",
    "## Geospatial Indexing:\n",
    "- Built-in support for geospatial data and queries.\n",
    "\n",
    "## Full-text Search:\n",
    "- Text indexes for efficient full-text search.\n",
    "\n",
    "## Adaptable to Object-Oriented Programming: \n",
    "- Integrates well with object-oriented programming languages.\n",
    "\n",
    "## Cross-platform Compatibility:\n",
    "- Works on various operating systems."
   ]
  },
  {
   "cell_type": "markdown",
   "id": "5fa8f65e",
   "metadata": {},
   "source": [
    "# Q3. Write a code to connect MongoDB to Python. Also, create a database and a collection in MongoDB.\n"
   ]
  },
  {
   "cell_type": "markdown",
   "id": "7e73b6bd",
   "metadata": {},
   "source": [
    "To connect MongoDB to Python, you'll need to use the \"pymongo\" library, which is the official Python driver for MongoDB. Before running the code, make sure you have installed the \"pymongo\" library using pip install pymongo."
   ]
  },
  {
   "cell_type": "code",
   "execution_count": null,
   "id": "968cb643",
   "metadata": {},
   "outputs": [],
   "source": [
    "import pymongo\n",
    "\n",
    "# Connect to MongoDB server\n",
    "try:\n",
    "    client = pymongo.MongoClient(\"mongodb://localhost:27017/\")\n",
    "    print(\"Connected to MongoDB successfully!\")\n",
    "except pymongo.errors.ConnectionFailure as e:\n",
    "    print(\"Connection to MongoDB failed: \", e)\n",
    "\n",
    "# Create or access a database\n",
    "db = client[\"mydatabase\"]\n",
    "print(\"Database 'mydatabase' created/accessed successfully!\")\n",
    "\n",
    "# Create or access a collection\n",
    "collection = db[\"mycollection\"]\n",
    "print(\"Collection 'mycollection' created/accessed successfully!\")\n"
   ]
  },
  {
   "cell_type": "markdown",
   "id": "12a7f07f",
   "metadata": {},
   "source": [
    "# Q4. Using the database and the collection created in question number 3, write a code to insert one record, and insert many records. Use the find() and find_one() methods to print the inserted record.\n"
   ]
  },
  {
   "cell_type": "markdown",
   "id": "c53c2ab0",
   "metadata": {},
   "source": [
    "To insert one record and insert multiple records into the MongoDB collection created in question number 3, and then use the find() and find_one() methods to print the inserted record, you can follow this code example:"
   ]
  },
  {
   "cell_type": "code",
   "execution_count": null,
   "id": "a98cf32d",
   "metadata": {},
   "outputs": [],
   "source": [
    "import pymongo\n",
    "\n",
    "# Connect to MongoDB server\n",
    "client = pymongo.MongoClient(\"mongodb://localhost:27017/\")\n",
    "\n",
    "# Access a database and collection\n",
    "db = client[\"mydatabase\"]\n",
    "collection = db[\"mycollection\"]\n",
    "\n",
    "# Insert one record\n",
    "record_one = {\"name\": \"John Doe\", \"age\": 30, \"city\": \"New York\"}\n",
    "inserted_one = collection.insert_one(record_one)\n",
    "print(\"One record inserted with ID:\", inserted_one.inserted_id)\n",
    "\n",
    "# Find and print the inserted record using find_one()\n",
    "found_record = collection.find_one({\"name\": \"John Doe\"})\n",
    "print(\"Inserted record (find_one()):\", found_record)\n"
   ]
  },
  {
   "cell_type": "markdown",
   "id": "8fc447ce",
   "metadata": {},
   "source": [
    "# Q5. Explain how you can use the find() method to query the MongoDB database. Write a simple code to demonstrate this."
   ]
  },
  {
   "cell_type": "code",
   "execution_count": null,
   "id": "3d103dfa",
   "metadata": {},
   "outputs": [],
   "source": [
    "import pymongo\n",
    "\n",
    "# Connect to MongoDB server\n",
    "client = pymongo.MongoClient(\"mongodb://localhost:27017/\")\n",
    "\n",
    "# Access a database and collection\n",
    "db = client[\"mydatabase\"]\n",
    "collection = db[\"mycollection\"]\n",
    "\n",
    "# Insert some sample data (optional)\n",
    "data = [\n",
    "    {\"name\": \"John Doe\", \"age\": 30, \"city\": \"New York\"},\n",
    "    {\"name\": \"Jane Smith\", \"age\": 28, \"city\": \"Los Angeles\"},\n",
    "    {\"name\": \"Michael Johnson\", \"age\": 35, \"city\": \"Chicago\"},\n",
    "    {\"name\": \"Emily Williams\", \"age\": 25, \"city\": \"San Francisco\"}\n",
    "]\n",
    "collection.insert_many(data)\n",
    "\n",
    "# Query the database using find()\n",
    "query = {\"age\": {\"$gte\": 30}}  # Retrieve documents where age is greater than or equal to 30\n",
    "cursor = collection.find(query)\n",
    "\n",
    "# Print the matching documents\n",
    "print(\"Matching documents (find()):\")\n",
    "for document in cursor:\n",
    "    print(document)\n"
   ]
  },
  {
   "cell_type": "markdown",
   "id": "4910cf81",
   "metadata": {},
   "source": [
    "# Q6. Explain the sort() method. Give an example to demonstrate sorting in MongoDB.\n"
   ]
  },
  {
   "cell_type": "code",
   "execution_count": null,
   "id": "b1a476a0",
   "metadata": {},
   "outputs": [],
   "source": [
    "import pymongo\n",
    "\n",
    "# Connect to MongoDB server\n",
    "client = pymongo.MongoClient(\"mongodb://localhost:27017/\")\n",
    "\n",
    "# Access a database and collection\n",
    "db = client[\"mydatabase\"]\n",
    "collection = db[\"mycollection\"]\n",
    "\n",
    "# Insert some sample data (optional)\n",
    "data = [\n",
    "    {\"name\": \"John Doe\", \"age\": 30, \"city\": \"New York\"},\n",
    "    {\"name\": \"Jane Smith\", \"age\": 28, \"city\": \"Los Angeles\"},\n",
    "    {\"name\": \"Michael Johnson\", \"age\": 35, \"city\": \"Chicago\"},\n",
    "    {\"name\": \"Emily Williams\", \"age\": 25, \"city\": \"San Francisco\"}\n",
    "]\n",
    "collection.insert_many(data)\n",
    "\n",
    "# Query the database and sort the results in ascending order by age\n",
    "cursor = collection.find().sort(\"age\", pymongo.ASCENDING)\n",
    "\n",
    "# Print the sorted documents in ascending order\n",
    "print(\"Sorted documents (Ascending):\")\n",
    "for document in cursor:\n",
    "    print(document)\n",
    "\n",
    "# Query the database and sort the results in descending order by age\n",
    "cursor = collection.find().sort(\"age\", pymongo.DESCENDING)\n",
    "\n",
    "# Print the sorted documents in descending order\n",
    "print(\"Sorted documents (Descending):\")\n",
    "for document in cursor:\n",
    "    print(document)\n"
   ]
  },
  {
   "cell_type": "markdown",
   "id": "c7f80d8b",
   "metadata": {},
   "source": [
    " the sort() method to retrieve and print the documents in ascending order by age, and then in descending order by age. The output will show the documents sorted based on the \"age\" field in both ascending and descending order."
   ]
  },
  {
   "cell_type": "markdown",
   "id": "b7224543",
   "metadata": {},
   "source": [
    "# Q7. Explain why delete_one(), delete_many(), and drop() is used"
   ]
  },
  {
   "cell_type": "markdown",
   "id": "06dad6d0",
   "metadata": {},
   "source": [
    "one() method is used to delete a single document that matches a specified filter or condition. If there are multiple documents that match the filter, only the first one encountered will be deleted."
   ]
  },
  {
   "cell_type": "code",
   "execution_count": null,
   "id": "c28a503e",
   "metadata": {},
   "outputs": [],
   "source": [
    "# Example: Delete a document with the name \"John Doe\"\n",
    "collection.delete_one({\"name\": \"John Doe\"})\n"
   ]
  },
  {
   "cell_type": "markdown",
   "id": "4369e2db",
   "metadata": {},
   "source": [
    "delete_many():\n",
    "The delete_many() method is used to delete multiple documents that match a specified filter or condition. All documents that satisfy the given filter will be removed."
   ]
  },
  {
   "cell_type": "code",
   "execution_count": null,
   "id": "ff194db1",
   "metadata": {},
   "outputs": [],
   "source": [
    "# Example: Delete all documents where the age is greater than or equal to 30\n",
    "collection.delete_many({\"age\": {\"$gte\": 30}})\n"
   ]
  },
  {
   "cell_type": "markdown",
   "id": "f43b2fb4",
   "metadata": {},
   "source": [
    "drop():\n",
    "The drop() method is used to completely remove a collection from the database. It deletes the entire collection along with all its documents."
   ]
  },
  {
   "cell_type": "code",
   "execution_count": null,
   "id": "45c6cc37",
   "metadata": {},
   "outputs": [],
   "source": [
    "# Example: Drop the collection \"mycollection\"\n",
    "collection.drop()\n"
   ]
  },
  {
   "cell_type": "markdown",
   "id": "e9320145",
   "metadata": {},
   "source": [
    "using delete_many() and drop(), as they can result in the permanent loss of data. Always double-check the filters or conditions used in the queries to ensure that only the intended data is deleted or dropped. Additionally, consider creating backups or testing the delete operations on a test database before performing them on production data to avoid any unintended data loss."
   ]
  },
  {
   "cell_type": "code",
   "execution_count": null,
   "id": "e5aa866b",
   "metadata": {},
   "outputs": [],
   "source": []
  }
 ],
 "metadata": {
  "kernelspec": {
   "display_name": "Python 3 (ipykernel)",
   "language": "python",
   "name": "python3"
  },
  "language_info": {
   "codemirror_mode": {
    "name": "ipython",
    "version": 3
   },
   "file_extension": ".py",
   "mimetype": "text/x-python",
   "name": "python",
   "nbconvert_exporter": "python",
   "pygments_lexer": "ipython3",
   "version": "3.9.7"
  }
 },
 "nbformat": 4,
 "nbformat_minor": 5
}
