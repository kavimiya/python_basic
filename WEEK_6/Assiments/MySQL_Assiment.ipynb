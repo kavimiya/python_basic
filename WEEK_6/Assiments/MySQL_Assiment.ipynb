{
 "cells": [
  {
   "cell_type": "markdown",
   "id": "3c8f01ce",
   "metadata": {},
   "source": [
    "# 1.) What is a database? Differentiate between SQL and NoSQL databases."
   ]
  },
  {
   "cell_type": "markdown",
   "id": "c610da19",
   "metadata": {},
   "source": [
    "## What is a database\n",
    "* Database is the collection of organized data that is structured and stored electronically on a computer system"
   ]
  },
  {
   "cell_type": "markdown",
   "id": "5ba68819",
   "metadata": {},
   "source": [
    "## Differentiate between SQL and NoSQL databases\n",
    "* SQL databases are` relational`, and NoSQL databases are `non-relational.`\n",
    "* SQL databases use `structured query language (SQL) `and have a predefined schema. NoSQL databases have `dynamic schemas for unstructured data`. \n",
    "* SQL databases are `vertically scalable`, while NoSQL databases are `horizontally scalable`.\n",
    "* SQL databases are `table-based`, while NoSQL databases are `document, key-value, graph, or wide-column stores`.\n",
    "* SQL databases are better for `multi-row transactions`, while NoSQL is better for `unstructured data like do`"
   ]
  },
  {
   "cell_type": "markdown",
   "id": "47cbfd68",
   "metadata": {},
   "source": [
    "# 2.)What is DDL? Explain why CREATE, DROP, ALTER, and TRUNCATE are used with an example."
   ]
  },
  {
   "cell_type": "markdown",
   "id": "330e7d4e",
   "metadata": {},
   "source": [
    "* DDL stands for `\"Data Definition Language,\"` and it is a subset of `SQL (Structured Query Language) `used to define and `manage the structure of a database`. DDL statements are `used to create, modify, and delete database objects like tables, indexes, views, and more`. These statements are essential for setting up the database schema and defining its organization."
   ]
  },
  {
   "cell_type": "markdown",
   "id": "c2ab003c",
   "metadata": {},
   "source": [
    "- CREATE:\n",
    "The CREATE statement is used to `create new database objects, such as tables, views, or indexes`. It defines the structure and properties of the object to be created.\n",
    "- Example - Creating a table:\n",
    "Suppose we want to create a table named \"Employees\" to store information about employees in a company. The table may have columns like \"EmployeeID,\" \"FirstName,\" \"LastName,\" \"Position,\" and \"Salary.\""
   ]
  },
  {
   "cell_type": "code",
   "execution_count": null,
   "id": "39e46c59",
   "metadata": {},
   "outputs": [],
   "source": [
    "CREATE TABLE Employees (\n",
    "    EmployeeID INT PRIMARY KEY,\n",
    "    FirstName VARCHAR(50),\n",
    "    LastName VARCHAR(50),\n",
    "    Position VARCHAR(100),\n",
    "    Salary DECIMAL(10, 2)\n",
    ");\n"
   ]
  },
  {
   "cell_type": "markdown",
   "id": "b034fc07",
   "metadata": {},
   "source": [
    "- DROP:\n",
    "The DROP statement is used to `remove existing database objects, such as tables, views, or indexes`. It `permanently deletes the object and its data from the database`.\n",
    "- Example - Dropping a table:\n",
    "Suppose we want to remove the \"Employees\" table from the database."
   ]
  },
  {
   "cell_type": "code",
   "execution_count": null,
   "id": "b9f48460",
   "metadata": {},
   "outputs": [],
   "source": [
    "DROP TABLE Employees;"
   ]
  },
  {
   "cell_type": "markdown",
   "id": "33c5b794",
   "metadata": {},
   "source": [
    "- ALTER:\n",
    "The ALTER statement is `used to modify the structure of an existing database object, such as adding, modifying, or deleting columns from a table`.\n",
    "- Example - Adding a column:\n",
    "Suppose we realize that we need to include an additional column named \"Department\" in the \"Employees\" table."
   ]
  },
  {
   "cell_type": "code",
   "execution_count": null,
   "id": "ad7e945a",
   "metadata": {},
   "outputs": [],
   "source": [
    "ALTER TABLE Employees\n",
    "ADD Department VARCHAR(100);"
   ]
  },
  {
   "cell_type": "markdown",
   "id": "421f323f",
   "metadata": {},
   "source": [
    "- TRUNCATE:\n",
    "The TRUNCATE statement is used to `remove all rows from a table quickly`. It is a faster and less resource-intensive alternative to the DELETE statement, as it removes all data in one operation without logging individual row deletions.\n",
    "- Example - Truncating a table:\n",
    "Suppose we want to remove all data from the \"Employees\" table."
   ]
  },
  {
   "cell_type": "code",
   "execution_count": null,
   "id": "a3013d4a",
   "metadata": {},
   "outputs": [],
   "source": [
    "TRUNCATE TABLE Employees;"
   ]
  },
  {
   "cell_type": "markdown",
   "id": "8384bf63",
   "metadata": {},
   "source": [
    "# 3.) What is DML? Explain INSERT, UPDATE, and DELETE with an example"
   ]
  },
  {
   "cell_type": "markdown",
   "id": "9c3aa859",
   "metadata": {},
   "source": [
    "* DML stands for `\"Data Manipulation Language,\"` and it is a subset of `SQL (Structured Query Language) `used to `interact with and manipulate the data within a database` DML statements are responsible for performing operations such as` inserting, updating, and deleting data in database tables`."
   ]
  },
  {
   "cell_type": "markdown",
   "id": "f9064ee6",
   "metadata": {},
   "source": [
    "- INSERT:\n",
    "The INSERT statement is used to `add new rows or records into a table`. It allows you to specify the values for each column or insert data retrieved from another table.\n",
    "* Example - Inserting a new record:\n",
    "Suppose we have the following \"Employees\" table, and we want to insert a new employee's data."
   ]
  },
  {
   "cell_type": "code",
   "execution_count": null,
   "id": "f1b53247",
   "metadata": {},
   "outputs": [],
   "source": [
    "INSERT INTO Employees (EmployeeID, FirstName, LastName, Position, Salary)\n",
    "VALUES (3, 'Michael', 'Johnson', 'Developer', 40000);"
   ]
  },
  {
   "cell_type": "markdown",
   "id": "598ecb60",
   "metadata": {},
   "source": [
    "- UPDATE:\n",
    "The UPDATE statement is used to `modify existing data in a table`. It allows you to change the values of one or more columns for specific rows based on certain conditions.\n",
    "- Example - Updating an employee's salary:\n",
    "Suppose we want to update the salary of employee with EmployeeID 2 to give them a raise."
   ]
  },
  {
   "cell_type": "code",
   "execution_count": null,
   "id": "6d8cdf2d",
   "metadata": {},
   "outputs": [],
   "source": [
    "UPDATE Employees\n",
    "SET Salary = 38000\n",
    "WHERE EmployeeID = 2;"
   ]
  },
  {
   "cell_type": "markdown",
   "id": "1c7ff349",
   "metadata": {},
   "source": [
    "- DELETE:\n",
    "The DELETE statement is used to `remove one or more rows from a table based on specific conditions`. It permanently removes data from the table.\n",
    "- Example - Deleting an employee record:\n",
    "Suppose we want to delete the record of the employee with EmployeeID 1 from the \"Employees\" table."
   ]
  },
  {
   "cell_type": "code",
   "execution_count": null,
   "id": "f423b319",
   "metadata": {},
   "outputs": [],
   "source": [
    "DELETE FROM Employees\n",
    "WHERE EmployeeID = 1;"
   ]
  },
  {
   "cell_type": "markdown",
   "id": "1557d39b",
   "metadata": {},
   "source": [
    "# 4.)What is DQL? Explain SELECT with an  ?"
   ]
  },
  {
   "cell_type": "markdown",
   "id": "8790a4fc",
   "metadata": {},
   "source": [
    "* DQL stands for `\"Data Query Language,\"` and it is a subset of `SQL (Structured Query Language)` used to `retrieve and query data from a database`. The primary DQL statement is the ` statement, which allows you to specify the columns and conditions to fetch data from one or more tables in the database`."
   ]
  },
  {
   "cell_type": "markdown",
   "id": "1c7c89f7",
   "metadata": {},
   "source": [
    "- Example - Basic SELECT query:\n",
    "Suppose we want to retrieve the EmployeeID, FirstName, and Salary of all employees from the \"Employees\" table."
   ]
  },
  {
   "cell_type": "code",
   "execution_count": null,
   "id": "7eec4ffa",
   "metadata": {},
   "outputs": [],
   "source": [
    "SELECT EmployeeID, FirstName, Salary\n",
    "FROM Employees;"
   ]
  },
  {
   "cell_type": "markdown",
   "id": "550f41dd",
   "metadata": {},
   "source": [
    "The SELECT statement is highly versatile and can be combined with other SQL clauses like ORDER BY, GROUP BY, JOIN, etc., to perform complex queries and retrieve data in various ways based on your specific requirements. It's one of the most powerful and commonly used DQL statements in SQL databases."
   ]
  },
  {
   "cell_type": "markdown",
   "id": "82307cfc",
   "metadata": {},
   "source": [
    "# 5.)Explain Primary Key and Foreign Key."
   ]
  },
  {
   "cell_type": "markdown",
   "id": "ed4d83fe",
   "metadata": {},
   "source": [
    "\n",
    "## Primary Key:\n",
    "- A column or set of columns in a table that uniquely identifies each row.\n",
    "\n",
    "## Foreign Key: \n",
    "- A column or set of columns in a table that refers to the Primary Key of another table, establishing a relationship between them."
   ]
  },
  {
   "cell_type": "markdown",
   "id": "3e886656",
   "metadata": {},
   "source": [
    "# 6.) Write a python code to connect MySQL to python. Explain the cursor() and execute() method"
   ]
  },
  {
   "cell_type": "markdown",
   "id": "148adcb9",
   "metadata": {},
   "source": [
    "- To connect MySQL to Python, you'll need to use a MySQL connector library. One popular choice is the `\"mysql-connector-python\" library`. Before running the code, ensure that you have installed the library using `pip install mysql-connector-python`.\n"
   ]
  },
  {
   "cell_type": "code",
   "execution_count": 5,
   "id": "851146c5",
   "metadata": {},
   "outputs": [
    {
     "name": "stdout",
     "output_type": "stream",
     "text": [
      "Error:  1045 (28000): Access denied for user 'kavi'@'localhost' (using password: YES)\n"
     ]
    }
   ],
   "source": [
    "import mysql.connector\n",
    "\n",
    "# Connect to MySQL server\n",
    "db_config = {\n",
    "    'host': 'localhost',\n",
    "    'user': 'kavi',\n",
    "    'password': 'kavi',\n",
    "    'database': 'mysql',\n",
    "}\n",
    "\n",
    "try:\n",
    "    # Create a connection\n",
    "    connection = mysql.connector.connect(**db_config)\n",
    "\n",
    "    # Create a cursor object to interact with the database\n",
    "    cursor = connection.cursor()\n",
    "\n",
    "    # Execute a SQL query\n",
    "    cursor.execute(\"SELECT * FROM employees\")\n",
    "\n",
    "    # Fetch and print the result\n",
    "    result = cursor.fetchall()\n",
    "    for row in result:\n",
    "        print(row)\n",
    "\n",
    "except mysql.connector.Error as err:\n",
    "    print(\"Error: \", err)\n",
    "\n",
    "finally:\n",
    "    # Close the cursor and connection\n",
    "    if 'cursor' in locals():\n",
    "        cursor.close()\n",
    "    if 'connection' in locals():\n",
    "        connection.close()\n"
   ]
  },
  {
   "cell_type": "markdown",
   "id": "0500e772",
   "metadata": {},
   "source": [
    "- Create a cursor object: The cursor() method is called on the connection object to create a cursor. The cursor is used to interact with the database and execute SQL queries.\n",
    "\n",
    "- Execute a SQL query: The execute() method is called on the cursor object to execute an SQL query. In this example, we execute a SELECT query to fetch data from the \"employees\" table."
   ]
  },
  {
   "cell_type": "markdown",
   "id": "c6d4ba74",
   "metadata": {},
   "source": [
    "# 7.)Give the order of execution of SQL clauses in an SQL query."
   ]
  },
  {
   "cell_type": "code",
   "execution_count": null,
   "id": "37121c5d",
   "metadata": {},
   "outputs": [],
   "source": [
    "SELECT\n",
    "FROM\n",
    "WHERE\n",
    "GROUP BY\n",
    "HAVING\n",
    "ORDER BY\n",
    "LIMIT/OFFSET (Optional)"
   ]
  }
 ],
 "metadata": {
  "kernelspec": {
   "display_name": "Python 3 (ipykernel)",
   "language": "python",
   "name": "python3"
  },
  "language_info": {
   "codemirror_mode": {
    "name": "ipython",
    "version": 3
   },
   "file_extension": ".py",
   "mimetype": "text/x-python",
   "name": "python",
   "nbconvert_exporter": "python",
   "pygments_lexer": "ipython3",
   "version": "3.9.7"
  }
 },
 "nbformat": 4,
 "nbformat_minor": 5
}
