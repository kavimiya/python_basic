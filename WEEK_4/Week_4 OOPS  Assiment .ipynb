{
 "cells": [
  {
   "cell_type": "markdown",
   "id": "482eb064",
   "metadata": {},
   "source": [
    "# Q1. Explain Class and Object with respect to Object-Oriented Programming. Give a suitable example.\n",
    "Ans:"
   ]
  },
  {
   "cell_type": "markdown",
   "id": "29f8ea4f",
   "metadata": {},
   "source": [
    "Python Classes\n",
    "A class is considered a blueprint of objects. We can think of the class as a sketch of a house. It the details about the floors, doors, windows, etc. Based on these descriptions we build the house. House is the object.\n",
    "\n",
    "Since many houses can be made from the same description, we can create many objects from a class.\n",
    "\n",
    "\n",
    "Python Objects\n",
    "An object is called an instance of a class. For example, suppose car is a class then we can create objects like car1, car2, etc from the class."
   ]
  },
  {
   "cell_type": "code",
   "execution_count": 3,
   "id": "50c8e633",
   "metadata": {},
   "outputs": [],
   "source": [
    "#We use the class keyword to create a class in Python. For example,\n",
    "class ClassName:\n",
    "    pass\n",
    "# class definition "
   ]
  },
  {
   "cell_type": "code",
   "execution_count": 4,
   "id": "c10ab1b4",
   "metadata": {},
   "outputs": [],
   "source": [
    "class Bike:\n",
    "    name = \"tvs\"\n",
    "    gear = 0"
   ]
  },
  {
   "cell_type": "code",
   "execution_count": null,
   "id": "aabf8969",
   "metadata": {},
   "outputs": [],
   "source": [
    "Python Objects\n",
    "An object is called an instance of a class. For example, suppose car is a class then we can create objects like car1, car2, etc from the class.\n",
    "\n",
    "Here's the syntax to create an object."
   ]
  },
  {
   "cell_type": "code",
   "execution_count": 5,
   "id": "297474de",
   "metadata": {},
   "outputs": [],
   "source": [
    "# create class\n",
    "class car:\n",
    "    name = \"\"\n",
    "    gear = 0\n",
    "\n",
    "# create objects of class\n",
    "bike1 = car()"
   ]
  },
  {
   "cell_type": "markdown",
   "id": "f2f61b26",
   "metadata": {},
   "source": [
    "# Q2. Name the four pillars of OOPs.\n",
    "Ans:"
   ]
  },
  {
   "cell_type": "markdown",
   "id": "3fcf22ba",
   "metadata": {},
   "source": [
    "## The Four Pillars of Object Oriented Programming\n",
    "* Abstraction.\n",
    "* Encapsulation.\n",
    "* Inheritance.\n",
    "* Polymorphism."
   ]
  },
  {
   "cell_type": "markdown",
   "id": "b512195e",
   "metadata": {},
   "source": [
    "# Q3. Explain why the __init__() function is used. Give a suitable example.\n",
    "Ans:"
   ]
  },
  {
   "cell_type": "markdown",
   "id": "6b402486",
   "metadata": {},
   "source": [
    "The __init__() Function\n",
    "The examples above are classes and objects in their simplest form, and are not really useful in real life applications.\n",
    "\n",
    "To understand the meaning of classes we have to understand the built-in __init__() function.\n",
    "\n",
    "All classes have a function called __init__(), which is always executed when the class is being initiated.\n",
    "\n",
    "Use the __init__() function to assign values to object properties, or other operations that are necessary to do when the object is being created:"
   ]
  },
  {
   "cell_type": "code",
   "execution_count": 7,
   "id": "67e25a06",
   "metadata": {},
   "outputs": [
    {
     "name": "stdout",
     "output_type": "stream",
     "text": [
      "sathish\n",
      "22\n"
     ]
    }
   ],
   "source": [
    "class Person:\n",
    "  def __init__(self, name, age):\n",
    "    self.name = name\n",
    "    self.age = age\n",
    "\n",
    "p1 = Person(\"sathish\", 22)\n",
    "\n",
    "print(p1.name)\n",
    "print(p1.age)"
   ]
  },
  {
   "cell_type": "markdown",
   "id": "3e69dc2e",
   "metadata": {},
   "source": [
    "# Q4. Why self is used in OOPs?\n",
    "Ans:"
   ]
  },
  {
   "cell_type": "markdown",
   "id": "6e8b7e51",
   "metadata": {},
   "source": [
    "The self Parameter\n",
    "The self parameter is a reference to the current instance of the class, and is used to access variables that belongs to the class.\n",
    "\n",
    "It does not have to be named self , you can call it whatever you like, but it has to be the first parameter of any function in the class:"
   ]
  },
  {
   "cell_type": "code",
   "execution_count": 12,
   "id": "72733664",
   "metadata": {},
   "outputs": [
    {
     "name": "stdout",
     "output_type": "stream",
     "text": [
      "Hello my name is:  sathish my age is 22\n"
     ]
    }
   ],
   "source": [
    "class Person:\n",
    "    def __init__(mysillyobject, name, age):\n",
    "        mysillyobject.name = name\n",
    "        mysillyobject.age = age\n",
    "\n",
    "    def myfunc(abc):\n",
    "        print(f'Hello my name is:  {abc.name} my age is {abc.age}')\n",
    "\n",
    "p1 = Person(\"sathish\", 22)\n",
    "p1.myfunc()"
   ]
  },
  {
   "cell_type": "markdown",
   "id": "bb87c51e",
   "metadata": {},
   "source": [
    "# Q5. What is inheritance? Give an example for each type of inheritance\n",
    "Ans:"
   ]
  },
  {
   "cell_type": "markdown",
   "id": "07efafc3",
   "metadata": {},
   "source": [
    "Python Inheritance\n",
    "Inheritance allows us to define a class that inherits all the methods and properties from another class.\n",
    "\n",
    "Parent class is the class being inherited from, also called base class.\n",
    "\n",
    "Child class is the class that inherits from another class, also called derived class."
   ]
  },
  {
   "cell_type": "code",
   "execution_count": 17,
   "id": "0847ca0b",
   "metadata": {},
   "outputs": [
    {
     "name": "stdout",
     "output_type": "stream",
     "text": [
      "sathish mass\n"
     ]
    }
   ],
   "source": [
    "class Person:\n",
    "    def __init__(self, fname, lname):\n",
    "        self.firstname = fname\n",
    "        self.lastname = lname\n",
    "\n",
    "    def printname(self):\n",
    "        print(self.firstname, self.lastname)\n",
    "        \n",
    "class Student(Person):\n",
    "    pass\n",
    "\n",
    "#Use the Person class to create an object, and then execute the printname method:\n",
    "\n",
    "x = Student(\"sathish\", \"mass\")\n",
    "x.printname()"
   ]
  },
  {
   "cell_type": "markdown",
   "id": "c5f583d1",
   "metadata": {},
   "source": []
  },
  {
   "cell_type": "code",
   "execution_count": 15,
   "id": "95d1bc42",
   "metadata": {},
   "outputs": [],
   "source": []
  },
  {
   "cell_type": "code",
   "execution_count": null,
   "id": "0320b27a",
   "metadata": {},
   "outputs": [],
   "source": []
  },
  {
   "cell_type": "code",
   "execution_count": null,
   "id": "9acdeae9",
   "metadata": {},
   "outputs": [],
   "source": []
  }
 ],
 "metadata": {
  "kernelspec": {
   "display_name": "Python 3 (ipykernel)",
   "language": "python",
   "name": "python3"
  },
  "language_info": {
   "codemirror_mode": {
    "name": "ipython",
    "version": 3
   },
   "file_extension": ".py",
   "mimetype": "text/x-python",
   "name": "python",
   "nbconvert_exporter": "python",
   "pygments_lexer": "ipython3",
   "version": "3.9.7"
  }
 },
 "nbformat": 4,
 "nbformat_minor": 5
}
