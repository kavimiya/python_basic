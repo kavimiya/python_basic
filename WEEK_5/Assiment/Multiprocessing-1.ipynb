{
 "cells": [
  {
   "cell_type": "markdown",
   "id": "db614bc8",
   "metadata": {},
   "source": [
    "# Q1. What is multiprocessing in python? Why is it useful? "
   ]
  },
  {
   "cell_type": "markdown",
   "id": "b586e365",
   "metadata": {},
   "source": [
    "Multiprocessing in Python allows for concurrent execution of multiple processes.\n",
    "It is useful for improved performance, resource utilization, stability, modular design, and platform independence."
   ]
  },
  {
   "cell_type": "markdown",
   "id": "f69330d2",
   "metadata": {},
   "source": [
    "# Q2. What are the differences between multiprocessing and multithreading?"
   ]
  },
  {
   "cell_type": "markdown",
   "id": "560196ae",
   "metadata": {},
   "source": [
    "* Multiprocessing: Multiple processes, independent memory spaces, true parallelism, higher overhead, better resource isolation, suitable for CPU-bound tasks.\n",
    "* Multithreading: Multiple threads, shared memory space, concurrency but not true parallelism, lower overhead, resource sharing, potential for race conditions, suitable for I/O-bound tasks and concurrent operations within a single process."
   ]
  },
  {
   "cell_type": "markdown",
   "id": "7f0dcafd",
   "metadata": {},
   "source": [
    "\n",
    "\n",
    "\n",
    "\n",
    "\n",
    "\n",
    "Q6. Write a python program to create 4 processes, each process should print a different number using the\n",
    "multiprocessing module in python."
   ]
  },
  {
   "cell_type": "markdown",
   "id": "ec41a914",
   "metadata": {},
   "source": [
    "# Q3. Write a python code to create a process using the multiprocessing module."
   ]
  },
  {
   "cell_type": "code",
   "execution_count": 4,
   "id": "f3056bcc",
   "metadata": {},
   "outputs": [
    {
     "name": "stdout",
     "output_type": "stream",
     "text": [
      "Process finished.\n"
     ]
    }
   ],
   "source": [
    "import multiprocessing\n",
    "\n",
    "def my_function(name):\n",
    "    print(f\"Hello, {name}!\")\n",
    "\n",
    "if __name__ == \"__main__\":\n",
    "    # Create a process\n",
    "    process = multiprocessing.Process(target=my_function, args=(\"Alice\"))\n",
    "\n",
    "    # Start the process\n",
    "    process.start()\n",
    "\n",
    "    # Wait for the process to finish\n",
    "    process.join()\n",
    "\n",
    "    print(\"Process finished.\")\n"
   ]
  },
  {
   "cell_type": "markdown",
   "id": "c44191ba",
   "metadata": {},
   "source": [
    "# Q4. What is a multiprocessing pool in python? Why is it used?"
   ]
  },
  {
   "cell_type": "markdown",
   "id": "c3aca0a8",
   "metadata": {},
   "source": [
    "A multiprocessing pool in Python allows for parallel execution of a function across multiple input values. It is used to improve performance, distribute tasks among worker processes, simplify programming, manage resources efficiently, and achieve scalability in multiprocessing applications."
   ]
  },
  {
   "cell_type": "markdown",
   "id": "5c67de9e",
   "metadata": {},
   "source": [
    "# Q5. How can we create a pool of worker processes in python using the multiprocessing module?"
   ]
  },
  {
   "cell_type": "code",
   "execution_count": null,
   "id": "c985081d",
   "metadata": {},
   "outputs": [],
   "source": [
    "import multiprocessing\n",
    "\n",
    "def process_function(value):\n",
    "    # Perform some computation or task on the input value\n",
    "    result = value * 2\n",
    "    return result\n",
    "\n",
    "if __name__ == \"__main__\":\n",
    "    # Create a pool of worker processes\n",
    "    pool = multiprocessing.Pool()\n",
    "\n",
    "    # Input values to be processed\n",
    "    values = [1, 2, 3, 4, 5]\n",
    "\n",
    "    # Apply the process_function to the values using the pool\n",
    "    results = pool.map(process_function, values)\n",
    "\n",
    "    # Close the pool to indicate no more tasks will be submitted\n",
    "    pool.close()\n",
    "\n",
    "    # Wait for the worker processes to finish\n",
    "    pool.join()\n",
    "\n",
    "    # Print the results\n",
    "    print(\"Results:\", results)\n"
   ]
  },
  {
   "cell_type": "code",
   "execution_count": null,
   "id": "47ea2e7d",
   "metadata": {},
   "outputs": [],
   "source": []
  }
 ],
 "metadata": {
  "kernelspec": {
   "display_name": "Python 3 (ipykernel)",
   "language": "python",
   "name": "python3"
  },
  "language_info": {
   "codemirror_mode": {
    "name": "ipython",
    "version": 3
   },
   "file_extension": ".py",
   "mimetype": "text/x-python",
   "name": "python",
   "nbconvert_exporter": "python",
   "pygments_lexer": "ipython3",
   "version": "3.9.7"
  }
 },
 "nbformat": 4,
 "nbformat_minor": 5
}
