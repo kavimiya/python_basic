{
 "cells": [
  {
   "cell_type": "markdown",
   "id": "02cace92",
   "metadata": {},
   "source": [
    "# Q1.what is an Exception in python write the different between exception and syntax error  "
   ]
  },
  {
   "cell_type": "markdown",
   "id": "15b34879",
   "metadata": {},
   "source": [
    "## what is an Exception in python\n",
    "An exception in Python is an event that occurs during program execution and disrupts the normal flow, while a syntax error is a mistake in the code that violates the language's syntax rules and prevents the program from running"
   ]
  },
  {
   "cell_type": "markdown",
   "id": "d1c28dd9",
   "metadata": {},
   "source": [
    "## The main difference between an exception and a syntax error lies in the timing of their occurrences and their causes.\n",
    "\n",
    "* Exception: Runtime error that occurs during program execution and can be handled.\n",
    "\n",
    "* Syntax error: Mistake in the code that violates the language's syntax rules, preventing program execution."
   ]
  },
  {
   "cell_type": "markdown",
   "id": "8d4fa5af",
   "metadata": {},
   "source": [
    "# Q2.what happen when an exception is not handled? explain with an example"
   ]
  },
  {
   "cell_type": "markdown",
   "id": "a55a7ce1",
   "metadata": {},
   "source": [
    "When an exception is not handled, the program terminates abruptly, displaying an error message with information about the unhandled exception. Code execution stops at the point of the exception, and any remaining code is not executed. To handle exceptions gracefully, use try-except blocks to catch and manage potential exceptions.\n"
   ]
  },
  {
   "cell_type": "code",
   "execution_count": 1,
   "id": "0dd1b538",
   "metadata": {},
   "outputs": [
    {
     "ename": "ZeroDivisionError",
     "evalue": "division by zero",
     "output_type": "error",
     "traceback": [
      "\u001b[1;31m---------------------------------------------------------------------------\u001b[0m",
      "\u001b[1;31mZeroDivisionError\u001b[0m                         Traceback (most recent call last)",
      "\u001b[1;32m~\\AppData\\Local\\Temp/ipykernel_5000/2639966713.py\u001b[0m in \u001b[0;36m<module>\u001b[1;34m\u001b[0m\n\u001b[0;32m      2\u001b[0m     \u001b[0mnumerator\u001b[0m \u001b[1;33m=\u001b[0m \u001b[1;36m10\u001b[0m\u001b[1;33m\u001b[0m\u001b[1;33m\u001b[0m\u001b[0m\n\u001b[0;32m      3\u001b[0m     \u001b[0mdenominator\u001b[0m \u001b[1;33m=\u001b[0m \u001b[1;36m0\u001b[0m\u001b[1;33m\u001b[0m\u001b[1;33m\u001b[0m\u001b[0m\n\u001b[1;32m----> 4\u001b[1;33m     \u001b[0mresult\u001b[0m \u001b[1;33m=\u001b[0m \u001b[0mnumerator\u001b[0m \u001b[1;33m/\u001b[0m \u001b[0mdenominator\u001b[0m  \u001b[1;31m# Raises a ZeroDivisionError\u001b[0m\u001b[1;33m\u001b[0m\u001b[1;33m\u001b[0m\u001b[0m\n\u001b[0m\u001b[0;32m      5\u001b[0m     \u001b[0mprint\u001b[0m\u001b[1;33m(\u001b[0m\u001b[1;34m\"The result is:\"\u001b[0m\u001b[1;33m,\u001b[0m \u001b[0mresult\u001b[0m\u001b[1;33m)\u001b[0m  \u001b[1;31m# This line is never reached\u001b[0m\u001b[1;33m\u001b[0m\u001b[1;33m\u001b[0m\u001b[0m\n\u001b[0;32m      6\u001b[0m \u001b[1;32mexcept\u001b[0m \u001b[0mValueError\u001b[0m\u001b[1;33m:\u001b[0m\u001b[1;33m\u001b[0m\u001b[1;33m\u001b[0m\u001b[0m\n",
      "\u001b[1;31mZeroDivisionError\u001b[0m: division by zero"
     ]
    }
   ],
   "source": [
    "try:\n",
    "    numerator = 10\n",
    "    denominator = 0\n",
    "    result = numerator / denominator  # Raises a ZeroDivisionError\n",
    "    print(\"The result is:\", result)  # This line is never reached\n",
    "except ValueError:\n",
    "    print(\"ValueError occurred.\")\n"
   ]
  },
  {
   "cell_type": "markdown",
   "id": "aa36574f",
   "metadata": {},
   "source": [
    "# Q3.Which python statements are used to catch and handle exceptions  explain with an example  "
   ]
  },
  {
   "cell_type": "markdown",
   "id": "1ed82d48",
   "metadata": {},
   "source": [
    "\n",
    "In Python, the try-except statements are used to catch and handle exceptions. The try block contains the code that might raise an exception, and the except block specifies the code to be executed if a specific exception occurs."
   ]
  },
  {
   "cell_type": "code",
   "execution_count": 2,
   "id": "b89d3db6",
   "metadata": {},
   "outputs": [
    {
     "name": "stdout",
     "output_type": "stream",
     "text": [
      "Cannot divide by zero! Please provide a non-zero denominator.\n"
     ]
    }
   ],
   "source": [
    "try:\n",
    "    numerator = 10\n",
    "    denominator = 0\n",
    "    result = numerator / denominator  # Raises a ZeroDivisionError\n",
    "    print(\"The result is:\", result)  # This line is never reached\n",
    "except ZeroDivisionError:\n",
    "    print(\"Cannot divide by zero! Please provide a non-zero denominator.\")\n"
   ]
  },
  {
   "cell_type": "markdown",
   "id": "b13ecd75",
   "metadata": {},
   "source": [
    "# Q4.Explain and example\n",
    "* try and else\n",
    "* finally\n",
    "* raise"
   ]
  },
  {
   "cell_type": "markdown",
   "id": "a851671e",
   "metadata": {},
   "source": [
    "## Ans:\n",
    "* try block: Contains the code that may raise an exception.\n",
    "* else block: Optional block executed when no exceptions occur in the try block.\n",
    "* finally block: Optional block always executed, regardless of exceptions.\n",
    "* raise statement: Used to explicitly raise exceptions programmatically."
   ]
  },
  {
   "cell_type": "code",
   "execution_count": 3,
   "id": "40d99ce9",
   "metadata": {},
   "outputs": [
    {
     "name": "stdout",
     "output_type": "stream",
     "text": [
      "The result is: 5.0\n",
      "This is always executed, regardless of exceptions.\n"
     ]
    }
   ],
   "source": [
    "try:\n",
    "    numerator = 10\n",
    "    denominator = 2\n",
    "    if denominator == 0:\n",
    "        raise ValueError(\"Denominator cannot be zero!\")\n",
    "    result = numerator / denominator\n",
    "except ValueError as e:\n",
    "    print(\"ValueError occurred:\", str(e))\n",
    "else:\n",
    "    print(\"The result is:\", result)\n",
    "finally:\n",
    "    print(\"This is always executed, regardless of exceptions.\")\n"
   ]
  },
  {
   "cell_type": "markdown",
   "id": "535ca545",
   "metadata": {},
   "source": [
    "# Q5.What are custom exceptions in python why do we need custom exceptions  explain and code"
   ]
  },
  {
   "cell_type": "markdown",
   "id": "5503e515",
   "metadata": {},
   "source": [
    "\n",
    "Custom exceptions in Python are user-defined exception classes that extend the base exception classes. They help in providing meaningful names, organizing exceptional conditions, and handling specific exceptions with custom logic. Using custom exceptions improves code readability, modularity, and error handling capabilities"
   ]
  },
  {
   "cell_type": "code",
   "execution_count": 4,
   "id": "a3afcb1b",
   "metadata": {},
   "outputs": [
    {
     "name": "stdout",
     "output_type": "stream",
     "text": [
      "Error: Custom exception occurred.\n"
     ]
    }
   ],
   "source": [
    "class CustomException(Exception):\n",
    "    pass\n",
    "\n",
    "try:\n",
    "    raise CustomException(\"Custom exception occurred.\")\n",
    "except CustomException as e:\n",
    "    print(\"Error:\", str(e))\n"
   ]
  },
  {
   "cell_type": "markdown",
   "id": "2dea1914",
   "metadata": {},
   "source": [
    "# Q6.create a custom exception class use this class to handle an exception  "
   ]
  },
  {
   "cell_type": "code",
   "execution_count": 5,
   "id": "c36fa819",
   "metadata": {},
   "outputs": [
    {
     "name": "stdout",
     "output_type": "stream",
     "text": [
      "Error: Cannot divide by zero.\n"
     ]
    }
   ],
   "source": [
    "class CustomException(Exception):\n",
    "    def __init__(self, message):\n",
    "        self.message = message\n",
    "\n",
    "def divide_numbers(a, b):\n",
    "    if b == 0:\n",
    "        raise CustomException(\"Cannot divide by zero.\")\n",
    "    return a / b\n",
    "\n",
    "try:\n",
    "    result = divide_numbers(10, 0)  # Raises CustomException\n",
    "except CustomException as e:\n",
    "    print(\"Error:\", e.message)\n"
   ]
  },
  {
   "cell_type": "code",
   "execution_count": null,
   "id": "87eb984e",
   "metadata": {},
   "outputs": [],
   "source": []
  }
 ],
 "metadata": {
  "kernelspec": {
   "display_name": "Python 3 (ipykernel)",
   "language": "python",
   "name": "python3"
  },
  "language_info": {
   "codemirror_mode": {
    "name": "ipython",
    "version": 3
   },
   "file_extension": ".py",
   "mimetype": "text/x-python",
   "name": "python",
   "nbconvert_exporter": "python",
   "pygments_lexer": "ipython3",
   "version": "3.9.7"
  }
 },
 "nbformat": 4,
 "nbformat_minor": 5
}
