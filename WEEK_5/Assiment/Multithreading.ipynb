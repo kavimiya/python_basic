{
 "cells": [
  {
   "cell_type": "markdown",
   "id": "51e1067e",
   "metadata": {},
   "source": [
    "# Q1. what is multithreading in python? why is it used? Name the module used to handle threads in python"
   ]
  },
  {
   "cell_type": "markdown",
   "id": "d190cadf",
   "metadata": {},
   "source": [
    "Multithreading in Python allows for concurrent execution of tasks within a program. It is used to improve performance and achieve parallelism. The threading module is used to handle threads in Python, providing functions and classes for managing threads and synchronization"
   ]
  },
  {
   "cell_type": "markdown",
   "id": "fd755e7c",
   "metadata": {},
   "source": [
    "# Q2.Why threading module used? Write the use of the following functions\n",
    "1. activeCount\n",
    "2. currentThread\n",
    "3. enumerate"
   ]
  },
  {
   "cell_type": "markdown",
   "id": "962dac67",
   "metadata": {},
   "source": [
    "The threading module in Python is used for creating and managing threads. It provides a high-level interface to work with threads, allowing you to control their execution, share data between them, and synchronize their activities. Here are the uses of the following functions in the threading module:"
   ]
  },
  {
   "cell_type": "markdown",
   "id": "6ffa2a5a",
   "metadata": {},
   "source": [
    "## activeCount():\n",
    "\n",
    "* Use: This function is used to get the number of currently active threads in the program.\n",
    "Example: threading.activeCount()\n",
    "\n",
    "## currentThread():\n",
    "\n",
    "* Use: This function is used to get a reference to the current thread object.\n",
    "Example: threading.currentThread()\n",
    "\n",
    "## enumerate():\n",
    "\n",
    "* Use: This function is used to get a list of all currently active thread objects.\n",
    "Example: threading.enumerate()"
   ]
  },
  {
   "cell_type": "code",
   "execution_count": 1,
   "id": "9552970d",
   "metadata": {},
   "outputs": [
    {
     "name": "stdout",
     "output_type": "stream",
     "text": [
      "Current thread name:Current thread name: Thread 2\n",
      " Current thread name: Thread 3\n",
      "Thread 1\n",
      "Active threads count: 6\n",
      "Current thread name: MainThread\n",
      "All active threads:\n",
      "MainThread\n",
      "Thread-6\n",
      "Thread-7\n",
      "Thread-5\n",
      "IPythonHistorySavingThread\n",
      "Thread-4\n"
     ]
    }
   ],
   "source": [
    "import threading\n",
    "\n",
    "def my_function():\n",
    "    current_thread = threading.currentThread()\n",
    "    print(\"Current thread name:\", current_thread.getName())\n",
    "\n",
    "# Creating multiple threads\n",
    "thread1 = threading.Thread(target=my_function, name=\"Thread 1\")\n",
    "thread2 = threading.Thread(target=my_function, name=\"Thread 2\")\n",
    "thread3 = threading.Thread(target=my_function, name=\"Thread 3\")\n",
    "\n",
    "# Starting the threads\n",
    "thread1.start()\n",
    "thread2.start()\n",
    "thread3.start()\n",
    "\n",
    "# Get the number of active threads\n",
    "active_threads_count = threading.activeCount()\n",
    "print(\"Active threads count:\", active_threads_count)\n",
    "\n",
    "# Get the current thread object\n",
    "current_thread = threading.currentThread()\n",
    "print(\"Current thread name:\", current_thread.getName())\n",
    "\n",
    "# Get a list of all active thread objects\n",
    "all_threads = threading.enumerate()\n",
    "print(\"All active threads:\")\n",
    "for thread in all_threads:\n",
    "    print(thread.getName())\n"
   ]
  },
  {
   "cell_type": "markdown",
   "id": "d2d95052",
   "metadata": {},
   "source": [
    "\n",
    "# Q3 Explain the following functions\n",
    "1. run\n",
    "2. start\n",
    "3. join\n",
    "4. isAlive"
   ]
  },
  {
   "cell_type": "markdown",
   "id": "7e8f6133",
   "metadata": {},
   "source": [
    "\n",
    "## run():\n",
    "\n",
    "* Functionality: The run() method is responsible for defining the behavior of a thread when it's executed. It contains the code that will be executed in the thread.\n",
    "* Usage: You can override the run() method in a custom thread class by subclassing the Thread class from the threading module. The code inside the run() method will be executed when the thread is started.\n",
    "\n",
    "## start():\n",
    "\n",
    "* Functionality: The start() method is used to start a thread by creating a new operating system-level thread and invoking the run() method of the thread.\n",
    "* Usage: After creating a thread object, you call the start() method to start the thread's execution. This method should only be called once per thread object.\n",
    "\n",
    "## join():\n",
    "\n",
    "* Functionality: The join() method is used to wait for a thread to complete its execution. It blocks the execution of the calling thread until the thread it's called on finishes.\n",
    "* Usage: By calling the join() method on a thread object, you can ensure that the main thread waits for the specified thread to finish before proceeding further in the code.\n",
    "\n",
    "## isAlive():\n",
    "\n",
    "* Functionality: The isAlive() method is used to check if a thread is currently running or alive.\n",
    "* Usage: When you call the isAlive() method on a thread object, it returns True if the thread is currently running, and False otherwise. This can be useful to check the status of a thread before proceeding with certain operations."
   ]
  },
  {
   "cell_type": "code",
   "execution_count": 5,
   "id": "0f44034c",
   "metadata": {},
   "outputs": [
    {
     "name": "stdout",
     "output_type": "stream",
     "text": [
      "Thread startedThread is alive: True\n",
      "\n",
      "Thread finished\n",
      "Thread is alive: False\n"
     ]
    }
   ],
   "source": [
    "import threading\n",
    "import time\n",
    "\n",
    "def my_function():\n",
    "    print(\"Thread started\")\n",
    "    time.sleep(2)  # Simulating some work\n",
    "    print(\"Thread finished\")\n",
    "\n",
    "# Create a thread object\n",
    "thread = threading.Thread(target=my_function)\n",
    "\n",
    "# Start the thread\n",
    "thread.start()\n",
    "\n",
    "# Check if the thread is alive\n",
    "print(\"Thread is alive:\",thread.is_alive())\n",
    "\n",
    "# Wait for the thread to finish\n",
    "thread.join()\n",
    "\n",
    "# Check if the thread is alive after join\n",
    "print(\"Thread is alive:\", thread.is_alive())\n"
   ]
  },
  {
   "cell_type": "markdown",
   "id": "00f5a1d1",
   "metadata": {},
   "source": [
    "# 4.  Write a python program to create two threads. Thread one must print the list of squares and thread two must print the list of cubes."
   ]
  },
  {
   "cell_type": "code",
   "execution_count": 3,
   "id": "00ca1c9e",
   "metadata": {},
   "outputs": [
    {
     "name": "stdout",
     "output_type": "stream",
     "text": [
      "Square: 1 * 1 = 1\n",
      "Square: 2 * 2 = 4\n",
      "Square: 3 * 3 = 9\n",
      "Square: 4 * 4 = 16\n",
      "Square: 5 * 5 = 25\n",
      "Cube: 1 * 1 * 1 = 1\n",
      "Cube: 2 * 2 * 2 = 8\n",
      "Cube: 3 * 3 * 3 = 27\n",
      "Cube: 4 * 4 * 4 = 64\n",
      "Cube: 5 * 5 * 5 = 125\n",
      "Program finished.\n"
     ]
    }
   ],
   "source": [
    "import threading\n",
    "\n",
    "def print_squares(numbers):\n",
    "    for num in numbers:\n",
    "        square = num * num\n",
    "        print(f\"Square: {num} * {num} = {square}\")\n",
    "\n",
    "def print_cubes(numbers):\n",
    "    for num in numbers:\n",
    "        cube = num * num * num\n",
    "        print(f\"Cube: {num} * {num} * {num} = {cube}\")\n",
    "\n",
    "# Create a list of numbers\n",
    "numbers = [1, 2, 3, 4, 5]\n",
    "\n",
    "# Create the first thread to print squares\n",
    "thread1 = threading.Thread(target=print_squares, args=(numbers,))\n",
    "\n",
    "# Create the second thread to print cubes\n",
    "thread2 = threading.Thread(target=print_cubes, args=(numbers,))\n",
    "\n",
    "# Start both threads\n",
    "thread1.start()\n",
    "thread2.start()\n",
    "\n",
    "# Wait for both threads to finish\n",
    "thread1.join()\n",
    "thread2.join()\n",
    "\n",
    "print(\"Program finished.\")\n"
   ]
  },
  {
   "cell_type": "markdown",
   "id": "731cfd18",
   "metadata": {},
   "source": [
    "# Q5. State advantages and disadvantages of multithreading"
   ]
  },
  {
   "cell_type": "markdown",
   "id": "f375c111",
   "metadata": {},
   "source": [
    "## Advantages of Multithreading:\n",
    "\n",
    "* Improved performance through concurrent execution.\n",
    "* Enhanced responsiveness and user interface interaction.\n",
    "* Efficient resource sharing and communication between threads.\n",
    "* Simplified design and modularity.\n",
    "* Asynchronous programming for handling I/O operations.\n",
    "\n",
    "## Disadvantages of Multithreading:\n",
    "\n",
    "* Increased complexity and potential for issues like synchronization and race conditions.\n",
    "* Challenging debugging and testing.\n",
    "* Overhead in terms of memory and CPU resources.\n",
    "* Scalability limitations in highly concurrent scenarios.\n",
    "* Added complexity for sequential tasks."
   ]
  },
  {
   "cell_type": "markdown",
   "id": "264c4605",
   "metadata": {},
   "source": [
    "# 6. Explain deadlocks and race conditions"
   ]
  },
  {
   "cell_type": "markdown",
   "id": "ee21d2c3",
   "metadata": {},
   "source": [
    "## Deadlocks:\n",
    "\n",
    "* Deadlocks occur when two or more threads are stuck waiting for each other to release resources.\n",
    "* Conditions for deadlocks include mutual exclusion, hold and wait, no preemption, and circular wait.\n",
    "* Deadlocks can lead to a system freeze and require careful resource management to prevent.\n",
    "\n",
    "## Race Conditions:\n",
    "\n",
    "* Race conditions occur when the behavior of a program depends on the timing and interleaving of concurrent operations.\n",
    "* They arise when multiple threads access shared resources without proper synchronization.\n",
    "* Race conditions can lead to unpredictable and erroneous results and require synchronization mechanisms to prevent."
   ]
  },
  {
   "cell_type": "code",
   "execution_count": null,
   "id": "47f0eed5",
   "metadata": {},
   "outputs": [],
   "source": []
  }
 ],
 "metadata": {
  "kernelspec": {
   "display_name": "Python 3 (ipykernel)",
   "language": "python",
   "name": "python3"
  },
  "language_info": {
   "codemirror_mode": {
    "name": "ipython",
    "version": 3
   },
   "file_extension": ".py",
   "mimetype": "text/x-python",
   "name": "python",
   "nbconvert_exporter": "python",
   "pygments_lexer": "ipython3",
   "version": "3.9.7"
  }
 },
 "nbformat": 4,
 "nbformat_minor": 5
}
