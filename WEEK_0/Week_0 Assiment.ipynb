{
 "cells": [
  {
   "cell_type": "markdown",
   "id": "b570f31b",
   "metadata": {},
   "source": [
    "Q1. Create one variable containing following type of data:\n",
    "\n",
    "(i)string\n",
    "\n",
    "(ii)list\n",
    "\n",
    "(iii)float\n",
    "\n",
    "(iv)tuple"
   ]
  },
  {
   "cell_type": "markdown",
   "id": "dfc090a3",
   "metadata": {},
   "source": [
    "## ANS:"
   ]
  },
  {
   "cell_type": "code",
   "execution_count": 1,
   "id": "73f53cd7",
   "metadata": {},
   "outputs": [],
   "source": [
    "var1='sathish'\n",
    "var2=[1,2,3,'kumar',True]\n",
    "var3=3.5\n",
    "var4=(1,3,4,6)"
   ]
  },
  {
   "cell_type": "code",
   "execution_count": 2,
   "id": "cedf3601",
   "metadata": {},
   "outputs": [
    {
     "name": "stdout",
     "output_type": "stream",
     "text": [
      "sathish [1, 2, 3, 'kumar', True] 3.5 (1, 3, 4, 6)\n"
     ]
    }
   ],
   "source": [
    "print(var1,var2,var3,var4)"
   ]
  },
  {
   "cell_type": "markdown",
   "id": "fd153e37",
   "metadata": {},
   "source": [
    "Q2. Given are some following variables containing data:\n",
    "\n",
    "(i)var1 = ‘ ‘\n",
    "\n",
    "(ii)var2 = ‘[ DS , ML , Python]’\n",
    "\n",
    "(iii)var3 = [ ‘DS’ , ’ML’ , ‘Python’ ]\n",
    "\n",
    "(iv)var4 = 1."
   ]
  },
  {
   "cell_type": "markdown",
   "id": "752d182e",
   "metadata": {},
   "source": [
    "## ANS:"
   ]
  },
  {
   "cell_type": "code",
   "execution_count": 4,
   "id": "cca306b6",
   "metadata": {},
   "outputs": [],
   "source": [
    "var1 = ' '\n",
    "var2 = '[ DS , ML , Python]'\n",
    "var3 = [ 'DS' , 'ML' , 'Python' ]\n",
    "var4 = 1."
   ]
  },
  {
   "cell_type": "code",
   "execution_count": 6,
   "id": "e7c5bf51",
   "metadata": {},
   "outputs": [
    {
     "name": "stdout",
     "output_type": "stream",
     "text": [
      "<class 'str'>\n",
      "<class 'str'>\n",
      "<class 'list'>\n",
      "<class 'float'>\n"
     ]
    }
   ],
   "source": [
    "print(type(var1))\n",
    "print(type(var2))\n",
    "print(type(var3))\n",
    "print(type(var4))"
   ]
  },
  {
   "cell_type": "markdown",
   "id": "cbb2cd39",
   "metadata": {},
   "source": [
    "Q3. Explain the use of the following operators using an example:\n",
    "\n",
    "(i)/\n",
    "\n",
    "(ii)% \n",
    "\n",
    "(iii)//\n",
    "\n",
    "(iv)**"
   ]
  },
  {
   "cell_type": "markdown",
   "id": "69ef9b77",
   "metadata": {},
   "source": [
    "## ANS:"
   ]
  },
  {
   "cell_type": "code",
   "execution_count": 8,
   "id": "bcff4ca2",
   "metadata": {},
   "outputs": [
    {
     "name": "stdout",
     "output_type": "stream",
     "text": [
      "7.333333333333333\n"
     ]
    }
   ],
   "source": [
    "a=22/3\n",
    "print(a)"
   ]
  },
  {
   "cell_type": "code",
   "execution_count": 11,
   "id": "933f0fd7",
   "metadata": {},
   "outputs": [
    {
     "name": "stdout",
     "output_type": "stream",
     "text": [
      "1\n"
     ]
    }
   ],
   "source": [
    "b=22%3\n",
    "print(b)"
   ]
  },
  {
   "cell_type": "code",
   "execution_count": 12,
   "id": "6fd5274b",
   "metadata": {},
   "outputs": [
    {
     "name": "stdout",
     "output_type": "stream",
     "text": [
      "7\n"
     ]
    }
   ],
   "source": [
    "c=22//3\n",
    "print(c)"
   ]
  },
  {
   "cell_type": "code",
   "execution_count": 13,
   "id": "269a182c",
   "metadata": {},
   "outputs": [
    {
     "name": "stdout",
     "output_type": "stream",
     "text": [
      "10648\n"
     ]
    }
   ],
   "source": [
    "d=22**3\n",
    "print(d)"
   ]
  },
  {
   "cell_type": "markdown",
   "id": "e0e635d1",
   "metadata": {},
   "source": [
    "Q4. Create a list of length 10 of your choice containing multiple types of data. Using for loop print the\n",
    "element and its data type"
   ]
  },
  {
   "cell_type": "markdown",
   "id": "3456d090",
   "metadata": {},
   "source": [
    "## ANS:"
   ]
  },
  {
   "cell_type": "code",
   "execution_count": 2,
   "id": "e39612a9",
   "metadata": {},
   "outputs": [
    {
     "name": "stdout",
     "output_type": "stream",
     "text": [
      "1 Type : <class 'int'>\n",
      "2 Type : <class 'int'>\n",
      "3.5 Type : <class 'float'>\n",
      "(2+5j) Type : <class 'complex'>\n",
      "True Type : <class 'bool'>\n",
      "good moring Type : <class 'str'>\n",
      "[11, 22] Type : <class 'list'>\n",
      "False Type : <class 'str'>\n",
      "have a nice day Type : <class 'str'>\n",
      "10 Type : <class 'int'>\n"
     ]
    }
   ],
   "source": [
    "a=[1,2,3.5,2+5J,True,'good moring',[11,22],'False','have a nice day',10]\n",
    "for i in range(len(a)):\n",
    "    print(a[i],'Type :',type(a[i]))"
   ]
  },
  {
   "cell_type": "markdown",
   "id": "76ac7d25",
   "metadata": {},
   "source": [
    "Q5. Using a while loop, verify if the number A is purely divisible by number B and if so then how many\n",
    "times it can be divisible."
   ]
  },
  {
   "cell_type": "markdown",
   "id": "956313e9",
   "metadata": {},
   "source": [
    "## ANS"
   ]
  },
  {
   "cell_type": "code",
   "execution_count": 42,
   "id": "e2b23a6a",
   "metadata": {},
   "outputs": [
    {
     "name": "stdout",
     "output_type": "stream",
     "text": [
      "10\n",
      "5\n",
      "A is divisible by B.\n",
      "It can be divided 1 times.\n"
     ]
    }
   ],
   "source": [
    "A = int(input())\n",
    "B = int(input())\n",
    "count = 0\n",
    "\n",
    "while A % B == 0:\n",
    "    A = A // B  # Divide A by B\n",
    "    count += 1  # Increment the count\n",
    "\n",
    "if count > 0:\n",
    "    print(\"A is divisible by B.\")\n",
    "    print(\"It can be divided\", count, \"times.\")\n",
    "else:\n",
    "    print(\"A is not divisible by B.\")\n"
   ]
  },
  {
   "cell_type": "markdown",
   "id": "911996c8",
   "metadata": {},
   "source": [
    "Q6. Create a list containing 25 int type data. Using for loop and if-else condition print if the element is\n",
    "divisible by 3 or not."
   ]
  },
  {
   "cell_type": "markdown",
   "id": "d2be9cac",
   "metadata": {},
   "source": [
    "## ANS:"
   ]
  },
  {
   "cell_type": "code",
   "execution_count": 52,
   "id": "eec679b0",
   "metadata": {},
   "outputs": [
    {
     "name": "stdout",
     "output_type": "stream",
     "text": [
      "Divisible 1 by 3 No.\n",
      "Divisible 2 by 3 No.\n",
      "Divisible 3 by 3 Yes.\n",
      "Divisible 4 by 3 No.\n",
      "Divisible 5 by 3 No.\n",
      "Divisible 6 by 3 Yes.\n",
      "Divisible 7 by 3 No.\n",
      "Divisible 8 by 3 No.\n",
      "Divisible 9 by 3 Yes.\n",
      "Divisible 10 by 3 No.\n",
      "Divisible 11 by 3 No.\n",
      "Divisible 12 by 3 Yes.\n",
      "Divisible 13 by 3 No.\n",
      "Divisible 14 by 3 No.\n",
      "Divisible 15 by 3 Yes.\n",
      "Divisible 16 by 3 No.\n",
      "Divisible 17 by 3 No.\n",
      "Divisible 18 by 3 Yes.\n",
      "Divisible 19 by 3 No.\n",
      "Divisible 20 by 3 No.\n",
      "Divisible 21 by 3 Yes.\n",
      "Divisible 22 by 3 No.\n",
      "Divisible 23 by 3 No.\n",
      "Divisible 24 by 3 Yes.\n"
     ]
    }
   ],
   "source": [
    "for i in range(1,25):\n",
    "    if i%3==0:\n",
    "        print('Divisible',i,'by 3 Yes.')\n",
    "    else:\n",
    "        print('Divisible',i,'by 3 No.')\n",
    "    "
   ]
  },
  {
   "cell_type": "markdown",
   "id": "3284f930",
   "metadata": {},
   "source": [
    "Q7. What do you understand about mutable and immutable data types? Give examples for both showing\n",
    "this property."
   ]
  },
  {
   "cell_type": "markdown",
   "id": "c081a03f",
   "metadata": {},
   "source": [
    "## Mutable is you can change value\n",
    "\n",
    "* list\n",
    "\n",
    "\n",
    "#### Ex :"
   ]
  },
  {
   "cell_type": "code",
   "execution_count": 65,
   "id": "445fcb92",
   "metadata": {},
   "outputs": [],
   "source": [
    "a=[1,3,6,3.55,'True']"
   ]
  },
  {
   "cell_type": "code",
   "execution_count": 66,
   "id": "a487215b",
   "metadata": {},
   "outputs": [
    {
     "data": {
      "text/plain": [
       "[1, 3, 6, 3.55, 'True']"
      ]
     },
     "execution_count": 66,
     "metadata": {},
     "output_type": "execute_result"
    }
   ],
   "source": [
    "a"
   ]
  },
  {
   "cell_type": "code",
   "execution_count": 67,
   "id": "41da260f",
   "metadata": {},
   "outputs": [
    {
     "data": {
      "text/plain": [
       "3.55"
      ]
     },
     "execution_count": 67,
     "metadata": {},
     "output_type": "execute_result"
    }
   ],
   "source": [
    "a[3]\n"
   ]
  },
  {
   "cell_type": "code",
   "execution_count": 68,
   "id": "1dc75301",
   "metadata": {},
   "outputs": [],
   "source": [
    "a[3]='hi'"
   ]
  },
  {
   "cell_type": "code",
   "execution_count": 69,
   "id": "4b59f511",
   "metadata": {},
   "outputs": [
    {
     "data": {
      "text/plain": [
       "[1, 3, 6, 'hi', 'True']"
      ]
     },
     "execution_count": 69,
     "metadata": {},
     "output_type": "execute_result"
    }
   ],
   "source": [
    "a"
   ]
  },
  {
   "cell_type": "markdown",
   "id": "53d334f8",
   "metadata": {},
   "source": [
    "## Immutable is you cannot change value\n",
    "* int\n",
    "* float\n",
    "* string\n",
    "\n",
    "#### Ex :\n"
   ]
  },
  {
   "cell_type": "code",
   "execution_count": 75,
   "id": "8ef0cdf2",
   "metadata": {},
   "outputs": [
    {
     "data": {
      "text/plain": [
       "1011"
      ]
     },
     "execution_count": 75,
     "metadata": {},
     "output_type": "execute_result"
    }
   ],
   "source": [
    "a=1011\n",
    "a"
   ]
  },
  {
   "cell_type": "code",
   "execution_count": 72,
   "id": "1ca068c4",
   "metadata": {
    "scrolled": true
   },
   "outputs": [
    {
     "ename": "TypeError",
     "evalue": "'int' object does not support item assignment",
     "output_type": "error",
     "traceback": [
      "\u001b[1;31m---------------------------------------------------------------------------\u001b[0m",
      "\u001b[1;31mTypeError\u001b[0m                                 Traceback (most recent call last)",
      "\u001b[1;32m~\\AppData\\Local\\Temp/ipykernel_9704/2603010139.py\u001b[0m in \u001b[0;36m<module>\u001b[1;34m\u001b[0m\n\u001b[1;32m----> 1\u001b[1;33m \u001b[0ma\u001b[0m\u001b[1;33m[\u001b[0m\u001b[1;36m1\u001b[0m\u001b[1;33m]\u001b[0m\u001b[1;33m=\u001b[0m\u001b[1;36m55\u001b[0m\u001b[1;33m\u001b[0m\u001b[1;33m\u001b[0m\u001b[0m\n\u001b[0m",
      "\u001b[1;31mTypeError\u001b[0m: 'int' object does not support item assignment"
     ]
    }
   ],
   "source": [
    "a[1]=55"
   ]
  },
  {
   "cell_type": "code",
   "execution_count": 74,
   "id": "3e4804dd",
   "metadata": {},
   "outputs": [
    {
     "data": {
      "text/plain": [
       "4.7"
      ]
     },
     "execution_count": 74,
     "metadata": {},
     "output_type": "execute_result"
    }
   ],
   "source": [
    "b=4.7\n",
    "b"
   ]
  },
  {
   "cell_type": "code",
   "execution_count": 76,
   "id": "b3aa0194",
   "metadata": {},
   "outputs": [
    {
     "ename": "TypeError",
     "evalue": "'float' object does not support item assignment",
     "output_type": "error",
     "traceback": [
      "\u001b[1;31m---------------------------------------------------------------------------\u001b[0m",
      "\u001b[1;31mTypeError\u001b[0m                                 Traceback (most recent call last)",
      "\u001b[1;32m~\\AppData\\Local\\Temp/ipykernel_9704/1358951747.py\u001b[0m in \u001b[0;36m<module>\u001b[1;34m\u001b[0m\n\u001b[1;32m----> 1\u001b[1;33m \u001b[0mb\u001b[0m\u001b[1;33m[\u001b[0m\u001b[1;36m2\u001b[0m\u001b[1;33m]\u001b[0m\u001b[1;33m=\u001b[0m\u001b[1;36m77\u001b[0m\u001b[1;33m\u001b[0m\u001b[1;33m\u001b[0m\u001b[0m\n\u001b[0m",
      "\u001b[1;31mTypeError\u001b[0m: 'float' object does not support item assignment"
     ]
    }
   ],
   "source": [
    "b[2]=77"
   ]
  },
  {
   "cell_type": "code",
   "execution_count": 77,
   "id": "ab845377",
   "metadata": {},
   "outputs": [
    {
     "data": {
      "text/plain": [
       "'hello'"
      ]
     },
     "execution_count": 77,
     "metadata": {},
     "output_type": "execute_result"
    }
   ],
   "source": [
    "var1='hello'\n",
    "var1"
   ]
  },
  {
   "cell_type": "code",
   "execution_count": 78,
   "id": "c4cd20b2",
   "metadata": {},
   "outputs": [
    {
     "data": {
      "text/plain": [
       "'l'"
      ]
     },
     "execution_count": 78,
     "metadata": {},
     "output_type": "execute_result"
    }
   ],
   "source": [
    "var1[3]"
   ]
  },
  {
   "cell_type": "code",
   "execution_count": 79,
   "id": "52c7f363",
   "metadata": {},
   "outputs": [
    {
     "ename": "TypeError",
     "evalue": "'str' object does not support item assignment",
     "output_type": "error",
     "traceback": [
      "\u001b[1;31m---------------------------------------------------------------------------\u001b[0m",
      "\u001b[1;31mTypeError\u001b[0m                                 Traceback (most recent call last)",
      "\u001b[1;32m~\\AppData\\Local\\Temp/ipykernel_9704/1808461697.py\u001b[0m in \u001b[0;36m<module>\u001b[1;34m\u001b[0m\n\u001b[1;32m----> 1\u001b[1;33m \u001b[0mvar1\u001b[0m\u001b[1;33m[\u001b[0m\u001b[1;36m3\u001b[0m\u001b[1;33m]\u001b[0m\u001b[1;33m=\u001b[0m\u001b[1;34m'g'\u001b[0m\u001b[1;33m\u001b[0m\u001b[1;33m\u001b[0m\u001b[0m\n\u001b[0m",
      "\u001b[1;31mTypeError\u001b[0m: 'str' object does not support item assignment"
     ]
    }
   ],
   "source": [
    "var1[3]='g'"
   ]
  },
  {
   "cell_type": "code",
   "execution_count": null,
   "id": "81744057",
   "metadata": {},
   "outputs": [],
   "source": []
  }
 ],
 "metadata": {
  "kernelspec": {
   "display_name": "Python 3 (ipykernel)",
   "language": "python",
   "name": "python3"
  },
  "language_info": {
   "codemirror_mode": {
    "name": "ipython",
    "version": 3
   },
   "file_extension": ".py",
   "mimetype": "text/x-python",
   "name": "python",
   "nbconvert_exporter": "python",
   "pygments_lexer": "ipython3",
   "version": "3.9.7"
  }
 },
 "nbformat": 4,
 "nbformat_minor": 5
}
