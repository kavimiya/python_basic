{
 "cells": [
  {
   "cell_type": "markdown",
   "id": "4029fa15",
   "metadata": {},
   "source": [
    "## Q1. How do you comment code in Python? What are the different types of comments?"
   ]
  },
  {
   "cell_type": "markdown",
   "id": "5f758d2b",
   "metadata": {},
   "source": [
    "## Two type coment:\n",
    "    1.Single Comment\n",
    "    2.Multiple Comments"
   ]
  },
  {
   "cell_type": "markdown",
   "id": "3f665608",
   "metadata": {},
   "source": [
    "### 1.Single Comment"
   ]
  },
  {
   "cell_type": "code",
   "execution_count": 1,
   "id": "df606a6a",
   "metadata": {},
   "outputs": [],
   "source": [
    "#hi hello 3+3"
   ]
  },
  {
   "cell_type": "code",
   "execution_count": null,
   "id": "f3be887c",
   "metadata": {},
   "outputs": [],
   "source": [
    "' hi '"
   ]
  },
  {
   "cell_type": "markdown",
   "id": "5b469e92",
   "metadata": {},
   "source": [
    "### 2.Multiple Comments"
   ]
  },
  {
   "cell_type": "code",
   "execution_count": 2,
   "id": "0ecb3d1e",
   "metadata": {},
   "outputs": [
    {
     "data": {
      "text/plain": [
       "'\\nhi \\nhello\\ngood evning guys\\n\\n'"
      ]
     },
     "execution_count": 2,
     "metadata": {},
     "output_type": "execute_result"
    }
   ],
   "source": [
    "\"\"\"\n",
    "hi \n",
    "hello\n",
    "good evning guys\n",
    "\n",
    "\"\"\""
   ]
  },
  {
   "cell_type": "markdown",
   "id": "dac2c4a5",
   "metadata": {},
   "source": [
    "# Q2. What are variables in Python? How do you declare and assign values to variables?"
   ]
  },
  {
   "cell_type": "markdown",
   "id": "89aebec2",
   "metadata": {},
   "source": [
    "* Variable is` store any value  used in python ,like store any number ,list,string,..etc`\n",
    "* Variable declare to `first start to must letter(aA to zZ) or underscore(_) `\n",
    "* value Assign to used `equal symbol(=)` \n"
   ]
  },
  {
   "cell_type": "markdown",
   "id": "b14fac8e",
   "metadata": {},
   "source": [
    "# Q3. How do you convert one data type to another in Python?"
   ]
  },
  {
   "cell_type": "markdown",
   "id": "0c8c4311",
   "metadata": {},
   "source": [
    "## That is very easy :\n",
    "### you can change one data type to another data type in python \n",
    "\n",
    "* intger to float ,string --> 44 -->float(44),str(44)\n",
    "   "
   ]
  },
  {
   "cell_type": "code",
   "execution_count": 7,
   "id": "23297800",
   "metadata": {},
   "outputs": [
    {
     "name": "stdout",
     "output_type": "stream",
     "text": [
      "44\n",
      "<class 'int'>\n",
      "44.0\n",
      "<class 'float'>\n"
     ]
    }
   ],
   "source": [
    "a=44\n",
    "print(a)\n",
    "print(type(a))\n",
    "a=float(a)\n",
    "print(a)\n",
    "print(type(a))"
   ]
  },
  {
   "cell_type": "code",
   "execution_count": 8,
   "id": "506b4327",
   "metadata": {},
   "outputs": [
    {
     "name": "stdout",
     "output_type": "stream",
     "text": [
      "44\n",
      "<class 'int'>\n",
      "44\n",
      "<class 'str'>\n"
     ]
    }
   ],
   "source": [
    "a=44\n",
    "print(a)\n",
    "print(type(a))\n",
    "a=str(a)\n",
    "print(a)\n",
    "print(type(a))"
   ]
  },
  {
   "cell_type": "markdown",
   "id": "3ad42bcd",
   "metadata": {},
   "source": [
    "* float to integer,string-->44.5 -->int(44.5),str(44.5)"
   ]
  },
  {
   "cell_type": "code",
   "execution_count": 9,
   "id": "52c48ae8",
   "metadata": {},
   "outputs": [
    {
     "name": "stdout",
     "output_type": "stream",
     "text": [
      "44.5\n",
      "<class 'float'>\n",
      "44.5\n",
      "<class 'float'>\n"
     ]
    }
   ],
   "source": [
    "a=44.5\n",
    "print(a)\n",
    "print(type(a))\n",
    "a=float(a)\n",
    "print(a)\n",
    "print(type(a))"
   ]
  },
  {
   "cell_type": "code",
   "execution_count": 10,
   "id": "a0cb32ed",
   "metadata": {},
   "outputs": [
    {
     "name": "stdout",
     "output_type": "stream",
     "text": [
      "44.5\n",
      "<class 'float'>\n",
      "44.5\n",
      "<class 'str'>\n"
     ]
    }
   ],
   "source": [
    "a=44.5\n",
    "print(a)\n",
    "print(type(a))\n",
    "a=str(a)\n",
    "print(a)\n",
    "print(type(a))"
   ]
  },
  {
   "cell_type": "markdown",
   "id": "8ad4225f",
   "metadata": {},
   "source": [
    "* bool to int,str,float"
   ]
  },
  {
   "cell_type": "code",
   "execution_count": 17,
   "id": "cd77b4bd",
   "metadata": {},
   "outputs": [
    {
     "name": "stdout",
     "output_type": "stream",
     "text": [
      "True\n",
      "<class 'bool'>\n",
      "1.0\n",
      "<class 'float'>\n",
      "1\n",
      "<class 'int'>\n",
      "1\n",
      "<class 'str'>\n"
     ]
    }
   ],
   "source": [
    "a=True\n",
    "print(a)\n",
    "print(type(a))\n",
    "a=float(a)\n",
    "print(a)\n",
    "print(type(a))\n",
    "a=int(a)\n",
    "print(a)\n",
    "print(type(a))\n",
    "a=str(a)\n",
    "print(a)\n",
    "print(type(a))"
   ]
  },
  {
   "cell_type": "markdown",
   "id": "13822793",
   "metadata": {},
   "source": [
    "# Q4. How do you write and execute a Python script from the command line?"
   ]
  },
  {
   "cell_type": "code",
   "execution_count": 25,
   "id": "4b96d347",
   "metadata": {},
   "outputs": [
    {
     "name": "stdout",
     "output_type": "stream",
     "text": [
      "hello\n"
     ]
    }
   ],
   "source": [
    "exec(open('hi.py').read())"
   ]
  },
  {
   "cell_type": "markdown",
   "id": "f1e744ad",
   "metadata": {},
   "source": [
    "# Q5. Given a list my_list = [1, 2, 3, 4, 5], write the code to slice the list and obtain the sub-list [2, 3]."
   ]
  },
  {
   "cell_type": "code",
   "execution_count": 26,
   "id": "1ad66541",
   "metadata": {},
   "outputs": [
    {
     "data": {
      "text/plain": [
       "[1, 2, 3, 4, 5]"
      ]
     },
     "execution_count": 26,
     "metadata": {},
     "output_type": "execute_result"
    }
   ],
   "source": [
    "my_list=[1,2,3,4,5]\n",
    "my_list"
   ]
  },
  {
   "cell_type": "code",
   "execution_count": 27,
   "id": "e9c64d7a",
   "metadata": {},
   "outputs": [
    {
     "data": {
      "text/plain": [
       "[2, 3]"
      ]
     },
     "execution_count": 27,
     "metadata": {},
     "output_type": "execute_result"
    }
   ],
   "source": [
    "my_list[1:3]"
   ]
  },
  {
   "cell_type": "markdown",
   "id": "631c7372",
   "metadata": {},
   "source": [
    "# Q6. What is a complex number in mathematics, and how is it represented in Python?"
   ]
  },
  {
   "cell_type": "code",
   "execution_count": 38,
   "id": "0b8d0621",
   "metadata": {},
   "outputs": [
    {
     "data": {
      "text/plain": [
       "(10+6j)"
      ]
     },
     "execution_count": 38,
     "metadata": {},
     "output_type": "execute_result"
    }
   ],
   "source": [
    "a=10+6j  # real number , imaginary \n",
    "a"
   ]
  },
  {
   "cell_type": "code",
   "execution_count": 39,
   "id": "81b312aa",
   "metadata": {},
   "outputs": [
    {
     "data": {
      "text/plain": [
       "complex"
      ]
     },
     "execution_count": 39,
     "metadata": {},
     "output_type": "execute_result"
    }
   ],
   "source": [
    "type(a)"
   ]
  },
  {
   "cell_type": "code",
   "execution_count": 40,
   "id": "87c8357c",
   "metadata": {},
   "outputs": [
    {
     "data": {
      "text/plain": [
       "10.0"
      ]
     },
     "execution_count": 40,
     "metadata": {},
     "output_type": "execute_result"
    }
   ],
   "source": [
    "a.real"
   ]
  },
  {
   "cell_type": "code",
   "execution_count": 41,
   "id": "22fc00a2",
   "metadata": {},
   "outputs": [
    {
     "data": {
      "text/plain": [
       "6.0"
      ]
     },
     "execution_count": 41,
     "metadata": {},
     "output_type": "execute_result"
    }
   ],
   "source": [
    "a.imag"
   ]
  },
  {
   "cell_type": "markdown",
   "id": "6f227c4d",
   "metadata": {},
   "source": [
    "# Q7. What is the correct way to declare a variable named age and assign the value 25 to it?"
   ]
  },
  {
   "cell_type": "markdown",
   "id": "0fd342a8",
   "metadata": {},
   "source": [
    "* variable name must declare (Aa to Zz) or underscore(_)"
   ]
  },
  {
   "cell_type": "code",
   "execution_count": 43,
   "id": "d154ff75",
   "metadata": {},
   "outputs": [
    {
     "data": {
      "text/plain": [
       "25"
      ]
     },
     "execution_count": 43,
     "metadata": {},
     "output_type": "execute_result"
    }
   ],
   "source": [
    "age_=25\n",
    "age"
   ]
  },
  {
   "cell_type": "markdown",
   "id": "afa95119",
   "metadata": {},
   "source": [
    "# Q8. Declare a variable named price and assign the value 9.99 to it. What data type does this variable belong to?"
   ]
  },
  {
   "cell_type": "code",
   "execution_count": 44,
   "id": "ba36d6c8",
   "metadata": {},
   "outputs": [
    {
     "data": {
      "text/plain": [
       "9.99"
      ]
     },
     "execution_count": 44,
     "metadata": {},
     "output_type": "execute_result"
    }
   ],
   "source": [
    "price=9.99\n",
    "price"
   ]
  },
  {
   "cell_type": "code",
   "execution_count": 45,
   "id": "9b306c19",
   "metadata": {},
   "outputs": [
    {
     "data": {
      "text/plain": [
       "float"
      ]
     },
     "execution_count": 45,
     "metadata": {},
     "output_type": "execute_result"
    }
   ],
   "source": [
    "type(price)"
   ]
  },
  {
   "cell_type": "markdown",
   "id": "fe4eeca9",
   "metadata": {},
   "source": [
    "# Q9. Create a variable named name and assign your full name to it as a string. How would you print the value of this variable?"
   ]
  },
  {
   "cell_type": "code",
   "execution_count": 46,
   "id": "a3e72bd8",
   "metadata": {},
   "outputs": [
    {
     "data": {
      "text/plain": [
       "'sathishkumar'"
      ]
     },
     "execution_count": 46,
     "metadata": {},
     "output_type": "execute_result"
    }
   ],
   "source": [
    "name='sathishkumar'\n",
    "name"
   ]
  },
  {
   "cell_type": "code",
   "execution_count": 48,
   "id": "cd4a86d4",
   "metadata": {},
   "outputs": [
    {
     "data": {
      "text/plain": [
       "str"
      ]
     },
     "execution_count": 48,
     "metadata": {},
     "output_type": "execute_result"
    }
   ],
   "source": [
    "type(name)"
   ]
  },
  {
   "cell_type": "markdown",
   "id": "f5b9c5b3",
   "metadata": {},
   "source": [
    "# Q10. Given the string \"Hello, World!\", extract the substring \"World\"."
   ]
  },
  {
   "cell_type": "code",
   "execution_count": 49,
   "id": "7730fc70",
   "metadata": {},
   "outputs": [
    {
     "data": {
      "text/plain": [
       "'Hello,World!'"
      ]
     },
     "execution_count": 49,
     "metadata": {},
     "output_type": "execute_result"
    }
   ],
   "source": [
    "a='Hello,World!'\n",
    "a"
   ]
  },
  {
   "cell_type": "code",
   "execution_count": 51,
   "id": "b36d7cdd",
   "metadata": {},
   "outputs": [
    {
     "data": {
      "text/plain": [
       "'World'"
      ]
     },
     "execution_count": 51,
     "metadata": {},
     "output_type": "execute_result"
    }
   ],
   "source": [
    "a[6:11]"
   ]
  },
  {
   "cell_type": "markdown",
   "id": "9dd6c641",
   "metadata": {},
   "source": [
    "# Q11. Create a variable named \"is_student\" and assign it a boolean value indicating whether you are currently a student or not."
   ]
  },
  {
   "cell_type": "code",
   "execution_count": 54,
   "id": "7efe512f",
   "metadata": {},
   "outputs": [
    {
     "name": "stdout",
     "output_type": "stream",
     "text": [
      "your are student\n"
     ]
    }
   ],
   "source": [
    "is_student=True\n",
    "if is_student == True:\n",
    "    print('your are student')\n",
    "else:\n",
    "    print('your are not student')"
   ]
  },
  {
   "cell_type": "code",
   "execution_count": null,
   "id": "1992f9a7",
   "metadata": {},
   "outputs": [],
   "source": []
  }
 ],
 "metadata": {
  "kernelspec": {
   "display_name": "Python 3 (ipykernel)",
   "language": "python",
   "name": "python3"
  },
  "language_info": {
   "codemirror_mode": {
    "name": "ipython",
    "version": 3
   },
   "file_extension": ".py",
   "mimetype": "text/x-python",
   "name": "python",
   "nbconvert_exporter": "python",
   "pygments_lexer": "ipython3",
   "version": "3.9.7"
  }
 },
 "nbformat": 4,
 "nbformat_minor": 5
}
